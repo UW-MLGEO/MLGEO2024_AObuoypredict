{
 "cells": [
  {
   "cell_type": "code",
   "execution_count": 1,
   "metadata": {},
   "outputs": [
    {
     "name": "stdout",
     "output_type": "stream",
     "text": [
      "145803.csv has had its Lat/Lon values changed\n",
      "300025010734900.csv has been deleted for having less than 50 rows\n",
      "300234062644380.csv has been deleted for having less than 50 rows\n",
      "300234066215880.csv has had its Lat/Lon values changed\n",
      "300234066216670.csv has had its Lat/Lon values changed\n",
      "300234066216690.csv has had its Lat/Lon values changed\n",
      "300234067874480.csv has been deleted for having less than 50 rows\n",
      "300234068040050.csv has had its Lat/Lon values changed\n",
      "300234068044480.csv has had its Lat/Lon values changed\n",
      "300234068045040.csv has had its Lat/Lon values changed\n",
      "300234068045430.csv has had its Lat/Lon values changed\n",
      "300234068348210.csv has had its Lat/Lon values changed\n",
      "300234068448290.csv has had its Lat/Lon values changed\n",
      "300234068448770.csv has had its Lat/Lon values changed\n",
      "300534063683310.csv has been deleted for having less than 50 rows\n",
      "300534064461170.csv has had its Lat/Lon values changed\n",
      "300534064462170.csv has had its Lat/Lon values changed\n",
      "300534064465180.csv has had its Lat/Lon values changed\n",
      "300534064466170.csv has had its Lat/Lon values changed\n",
      "300534064468160.csv has had its Lat/Lon values changed\n",
      "300534064468370.csv has had its Lat/Lon values changed\n",
      "300534064469160.csv has had its Lat/Lon values changed\n",
      "300534065162890.csv has been deleted for having less than 50 rows\n",
      "300534065282030.csv has been deleted for having less than 50 rows\n",
      "300534066610750.csv has been deleted for having less than 50 rows\n",
      "300534066611760.csv has been deleted for having less than 50 rows\n",
      "300534066611770.csv has been deleted for having less than 50 rows\n",
      "300534066612740.csv has been deleted for having less than 50 rows\n",
      "300534066618750.csv has been deleted for having less than 50 rows\n",
      "300534066618760.csv has been deleted for having less than 50 rows\n",
      "All files have been cleaned\n"
     ]
    }
   ],
   "source": [
    "import os\n",
    "import pandas as pd\n",
    "import geopandas as gpd\n",
    "\n",
    "directory = '../data/raw/buoydata/past'\n",
    "\n",
    "for filename in os.listdir(directory):\n",
    "    if filename.endswith('.csv'):\n",
    "        file_path = os.path.join(directory, filename)\n",
    "        \n",
    "        # Read the CSV file\n",
    "        df = pd.read_csv(file_path)\n",
    "        \n",
    "        # Remove rows with NAs\n",
    "        df_cleaned = df.dropna()\n",
    "\n",
    "        # Convert Lat/Lon values above 180 to -180 to 180 format\n",
    "        df_cleaned['Lat'] = df_cleaned['Lat'].apply(lambda x: x - 360 if x > 180 else x)\n",
    "        df_cleaned['Lon'] = df_cleaned['Lon'].apply(lambda x: x - 360 if x > 180 else x)\n",
    "\n",
    "        # Remove rows with Lat values less than 66\n",
    "        df_cleaned = df_cleaned[df_cleaned['Lat'] >= 66]\n",
    "\n",
    "        # Save the cleaned data back to the file unless the file has less than 50 rows\n",
    "        if len(df_cleaned) > 50:\n",
    "            df_cleaned.to_csv(file_path, index=False)\n",
    "        else:\n",
    "            os.remove(file_path)\n",
    "\n",
    "        # Print a message to indicate if a file was deleted for having less than 50 rows\n",
    "        if len(df_cleaned) <= 50:\n",
    "            print(f'{filename} has been deleted for having less than 50 rows')\n",
    "\n",
    "        # List the files that have had their Lat/Lon values changed\n",
    "        if (df['Lat'] > 180).any() or (df['Lon'] > 180).any():\n",
    "            print(f'{filename} has had its Lat/Lon values changed')\n",
    "\n",
    "# Print a message to indicate that the script has finished\n",
    "print('All files have been cleaned')"
   ]
  }
 ],
 "metadata": {
  "kernelspec": {
   "display_name": "base",
   "language": "python",
   "name": "python3"
  },
  "language_info": {
   "codemirror_mode": {
    "name": "ipython",
    "version": 3
   },
   "file_extension": ".py",
   "mimetype": "text/x-python",
   "name": "python",
   "nbconvert_exporter": "python",
   "pygments_lexer": "ipython3",
   "version": "3.12.4"
  }
 },
 "nbformat": 4,
 "nbformat_minor": 2
}
