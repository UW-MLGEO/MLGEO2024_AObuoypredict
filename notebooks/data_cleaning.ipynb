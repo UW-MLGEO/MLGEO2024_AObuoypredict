{
 "cells": [
  {
   "cell_type": "markdown",
   "metadata": {},
   "source": [
    "## 1. Raw buoy data cleaning\n",
    "This cell will clean the buoy data to remove rows with NAs, ensure that the format of lat/lon pairs is standardized, remove buoy locations outside of the Arctic, and remove buoy tracks with less than 50 rows (these are assumed to have been destroyed or instruments failed)\n",
    "\n",
    "The resulting cleaned data will be stored in the data/cleaned/buoydata/past folder."
   ]
  },
  {
   "cell_type": "code",
   "execution_count": 1,
   "metadata": {},
   "outputs": [
    {
     "name": "stdout",
     "output_type": "stream",
     "text": [
      "300025010734900.csv has been deleted for having less than 50 rows\n",
      "300234062644380.csv has been deleted for having less than 50 rows\n",
      "300234066034140.csv has been deleted for having less than 50 rows\n",
      "300234066215880.csv has been deleted for having less than 50 rows\n",
      "300234066216670.csv has been deleted for having less than 50 rows\n",
      "300234066216690.csv has been deleted for having less than 50 rows\n",
      "300234066216700.csv has been deleted for having less than 50 rows\n",
      "300234067874480.csv has been deleted for having less than 50 rows\n",
      "300234067877380.csv has been deleted for having less than 50 rows\n",
      "300234067976260.csv has been deleted for having less than 50 rows\n",
      "300234068346100.csv has been deleted for having less than 50 rows\n",
      "300234068447190.csv has been deleted for having less than 50 rows\n",
      "300234068448290.csv has been deleted for having less than 50 rows\n",
      "300234068767570.csv has been deleted for having less than 50 rows\n",
      "300234068769540.csv has been deleted for having less than 50 rows\n",
      "300534062831790.csv has been deleted for having less than 50 rows\n",
      "300534063181340.csv has been deleted for having less than 50 rows\n",
      "300534063683310.csv has been deleted for having less than 50 rows\n",
      "300534063807280.csv has been deleted for having less than 50 rows\n",
      "300534064367500.csv has been deleted for having less than 50 rows\n",
      "300534064368490.csv has been deleted for having less than 50 rows\n",
      "300534065162890.csv has been deleted for having less than 50 rows\n",
      "300534065282030.csv has been deleted for having less than 50 rows\n",
      "300534066610750.csv has been deleted for having less than 50 rows\n",
      "300534066611760.csv has been deleted for having less than 50 rows\n",
      "300534066611770.csv has been deleted for having less than 50 rows\n",
      "300534066612740.csv has been deleted for having less than 50 rows\n",
      "300534066618750.csv has been deleted for having less than 50 rows\n",
      "300534066618760.csv has been deleted for having less than 50 rows\n",
      "4448173.csv has been deleted for having less than 50 rows\n",
      "All files have been cleaned and saved to the cleaned directory\n"
     ]
    }
   ],
   "source": [
    "# Cleaning buoy data, including removing rows with NAs, ensuring all longitude values are 0 to 360, removing rows with Lat values less than 66, and \n",
    "# removing files with less than 50 rows\n",
    "\n",
    "# TO DO: remove data on land\n",
    "\n",
    "import os\n",
    "import pandas as pd\n",
    "import geopandas as gpd\n",
    "\n",
    "input_directory = '../data/raw/buoydata/past'\n",
    "output_directory = '../data/cleaned/buoydata/past'\n",
    "\n",
    "# Create the output directory if it doesn't exist\n",
    "os.makedirs(output_directory, exist_ok=True)\n",
    "\n",
    "for filename in os.listdir(input_directory):\n",
    "    if filename.endswith('.csv'):\n",
    "        input_file_path = os.path.join(input_directory, filename)\n",
    "        \n",
    "        # Read the CSV file\n",
    "        df = pd.read_csv(input_file_path)\n",
    "        \n",
    "        # Remove rows with NAs\n",
    "        df_cleaned = df.dropna()\n",
    "\n",
    "        # Ensure that all longitude values are 0 to 360 and not -180 to 180\n",
    "        df_cleaned['Lon'] = df_cleaned['Lon'].apply(lambda x: x + 360 if x < 0 else x)\n",
    "\n",
    "        # Remove rows with Lat values less than 66\n",
    "        df_cleaned = df_cleaned[df_cleaned['Lat'] >= 66]\n",
    "\n",
    "        # Save the cleaned data to the output directory unless the file has less than 50 rows\n",
    "        if len(df_cleaned) > 50:\n",
    "            output_file_path = os.path.join(output_directory, filename)\n",
    "            df_cleaned.to_csv(output_file_path, index=False)\n",
    "        else:\n",
    "            print(f'{filename} has been deleted for having less than 50 rows')\n",
    "\n",
    "# Print a message to indicate that the script has finished\n",
    "print('All files have been cleaned and saved to the cleaned directory')"
   ]
  }
 ],
 "metadata": {
  "kernelspec": {
   "display_name": "base",
   "language": "python",
   "name": "python3"
  },
  "language_info": {
   "codemirror_mode": {
    "name": "ipython",
    "version": 3
   },
   "file_extension": ".py",
   "mimetype": "text/x-python",
   "name": "python",
   "nbconvert_exporter": "python",
   "pygments_lexer": "ipython3",
   "version": "3.12.3"
  }
 },
 "nbformat": 4,
 "nbformat_minor": 2
}
