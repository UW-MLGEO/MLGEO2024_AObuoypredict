{
 "cells": [
  {
   "cell_type": "markdown",
   "metadata": {},
   "source": [
    "## 1. Raw buoy data cleaning\n",
    "This cell will clean the buoy data to remove rows with NAs, ensure that the format of lat/lon pairs is standardized, remove buoy locations outside of the Arctic, and remove buoy tracks with less than 50 rows (these are assumed to have been destroyed or instruments failed)\n",
    "\n",
    "The resulting cleaned data will be stored in the data/cleaned/buoydata/past folder."
   ]
  },
  {
   "cell_type": "code",
   "execution_count": null,
   "metadata": {},
   "outputs": [],
   "source": [
    "# Cleaning buoy data, including removing rows with NAs, ensuring all longitude values are 0 to 360, removing rows with Lat values less than 66, and \n",
    "# removing files with less than 50 rows\n",
    "\n",
    "# TO DO: remove data on land\n",
    "\n",
    "import os\n",
    "import pandas as pd\n",
    "import geopandas as gpd\n",
    "\n",
    "input_directory = '../data/raw/buoydata/past'\n",
    "output_directory = '../data/cleaned/buoydata/past'\n",
    "\n",
    "# Create the output directory if it doesn't exist\n",
    "os.makedirs(output_directory, exist_ok=True)\n",
    "\n",
    "for filename in os.listdir(input_directory):\n",
    "    if filename.endswith('.csv'):\n",
    "        input_file_path = os.path.join(input_directory, filename)\n",
    "        \n",
    "        # Read the CSV file\n",
    "        df = pd.read_csv(input_file_path)\n",
    "        \n",
    "        # Remove rows with NAs\n",
    "        df_cleaned = df.dropna()\n",
    "\n",
    "        # Ensure that all longitude values are 0 to 360 and not -180 to 180\n",
    "        df_cleaned['Lon'] = df_cleaned['Lon'].apply(lambda x: x + 360 if x < 0 else x)\n",
    "\n",
    "        # Remove rows with Lat values less than 66\n",
    "        df_cleaned = df_cleaned[df_cleaned['Lat'] >= 66]\n",
    "\n",
    "        # Save the cleaned data to the output directory unless the file has less than 50 rows\n",
    "        if len(df_cleaned) > 50:\n",
    "            output_file_path = os.path.join(output_directory, filename)\n",
    "            df_cleaned.to_csv(output_file_path, index=False)\n",
    "        else:\n",
    "            print(f'{filename} has been deleted for having less than 50 rows')\n",
    "\n",
    "# Print a message to indicate that the script has finished\n",
    "print('All files have been cleaned and saved to the cleaned directory')"
   ]
  },
  {
   "cell_type": "markdown",
   "metadata": {},
   "source": [
    "## 2. Current buoy data cleaning.\n",
    "This cell will clean the buoy data to remove rows with NAs, ensure that the format of lat/lon pairs is standardized, and remove buoy locations outside of the Arctic. It is not practical to remove files for having less than 50 rows in this case as collections of current buoy tracks necessarily have less transmissions in total.\n",
    "\n",
    "The resulting cleaned data will be stored in the data/cleaned/buoydata/current folder."
   ]
  },
  {
   "cell_type": "code",
   "execution_count": null,
   "metadata": {},
   "outputs": [],
   "source": [
    "# Cleaning current buoy data, including removing rows with NAs, ensuring all longitude values are 0 to 360, and removing rows with Lat values less than 66\n",
    "\n",
    "input_directory_current = '../data/raw/buoydata/current'\n",
    "output_directory_current = '../data/cleaned/buoydata/current'\n",
    "\n",
    "# Create the output directory if it doesn't exist\n",
    "os.makedirs(output_directory_current, exist_ok=True)\n",
    "\n",
    "for filename in os.listdir(input_directory_current):\n",
    "    if filename.endswith('.csv'):\n",
    "        input_file_path_current = os.path.join(input_directory_current, filename)\n",
    "        \n",
    "        # Read the CSV file\n",
    "        df_current = pd.read_csv(input_file_path_current)\n",
    "        \n",
    "        # Remove rows with NAs\n",
    "        df_cleaned_current = df_current.dropna()\n",
    "\n",
    "        # Ensure that all longitude values are 0 to 360 and not -180 to 180\n",
    "        df_cleaned_current['Lon'] = df_cleaned_current['Lon'].apply(lambda x: x + 360 if x < 0 else x)\n",
    "\n",
    "        # Remove rows with Lat values less than 66\n",
    "        df_cleaned_current = df_cleaned_current[df_cleaned_current['Lat'] >= 66]\n",
    "\n",
    "        # Save the cleaned data to the output directory\n",
    "        output_file_path_current = os.path.join(output_directory_current, filename)\n",
    "        df_cleaned_current.to_csv(output_file_path_current, index=False)\n",
    "\n",
    "# Print a message to indicate that the script has finished\n",
    "print('All current buoy data files have been cleaned and saved to the cleaned directory')"
   ]
  }
 ],
 "metadata": {
  "kernelspec": {
   "display_name": "base",
   "language": "python",
   "name": "python3"
  },
  "language_info": {
   "codemirror_mode": {
    "name": "ipython",
    "version": 3
   },
   "file_extension": ".py",
   "mimetype": "text/x-python",
   "name": "python",
   "nbconvert_exporter": "python",
   "pygments_lexer": "ipython3",
   "version": "3.12.3"
  }
 },
 "nbformat": 4,
 "nbformat_minor": 2
}
