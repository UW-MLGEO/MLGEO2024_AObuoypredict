{
 "cells": [
  {
   "cell_type": "code",
   "execution_count": null,
   "metadata": {},
   "outputs": [],
   "source": [
    "#Download all the csv files from the IABP website and save them in the data/raw/buoydata folder for later use\n",
    "\n",
    "import os\n",
    "import requests\n",
    "from bs4 import BeautifulSoup\n",
    "from urllib.parse import urljoin\n",
    "\n",
    "# URL of the webpage to scrape\n",
    "url = 'https://iabp.apl.uw.edu/Data_Products/Daily_Interp/BuoyData_2024/'\n",
    "\n",
    "# Directory to save the downloaded CSV files\n",
    "output_dir = '../data/raw/buoydata'\n",
    "\n",
    "# Create the directory if it does not exist\n",
    "if not os.path.exists(output_dir):\n",
    "    os.makedirs(output_dir)\n",
    "\n",
    "# Send a GET request to the webpage\n",
    "response = requests.get(url)\n",
    "response.raise_for_status()  # Check if the request was successful\n",
    "\n",
    "# Parse the webpage content\n",
    "soup = BeautifulSoup(response.text, 'html.parser')\n",
    "\n",
    "# Find all links ending with .csv\n",
    "csv_links = soup.find_all('a', href=lambda href: href and href.endswith('.csv'))\n",
    "\n",
    "# Download each CSV file\n",
    "for link in csv_links:\n",
    "    csv_url = urljoin(url, link['href'])\n",
    "    csv_response = requests.get(csv_url)\n",
    "    csv_response.raise_for_status()\n",
    "    \n",
    "    # Extract the filename from the URL\n",
    "    filename = os.path.join(output_dir, os.path.basename(csv_url))\n",
    "    \n",
    "    # Save the CSV file\n",
    "    with open(filename, 'wb') as file:\n",
    "        file.write(csv_response.content)\n",
    "    \n",
    "    print(f'Downloaded {filename}')\n",
    "\n",
    "print('All files downloaded successfully!')"
   ]
  }
 ],
 "metadata": {
  "kernelspec": {
   "display_name": "base",
   "language": "python",
   "name": "python3"
  },
  "language_info": {
   "codemirror_mode": {
    "name": "ipython",
    "version": 3
   },
   "file_extension": ".py",
   "mimetype": "text/x-python",
   "name": "python",
   "nbconvert_exporter": "python",
   "pygments_lexer": "ipython3",
   "version": "3.12.4"
  }
 },
 "nbformat": 4,
 "nbformat_minor": 2
}
