# Import libraries
from flaml import AutoML
from sklearn.metrics import mean_absolute_error, mean_squared_error
import pandas as pd
from sklearn.model_selection import train_test_split

# Load the data
data = pd.read_csv('../combined_buoy_data.csv')
X = data[['DOY', 'era5_uwnd', 'era5_vwnd']]
y_lat = data['Latitude']
y_lon = data['Longitude']

# Split into train and test sets for Latitude and Longitude
X_train, X_test, y_train_lat, y_test_lat = train_test_split(X, y_lat, test_size=0.2, random_state=42)
_, _, y_train_lon, y_test_lon = train_test_split(X, y_lon, test_size=0.2, random_state=42)

# Initialize and fit AutoML for Latitude prediction
automl_lat = AutoML()
automl_lat_settings = {
    "time_budget": 1800,  # Set time budget in seconds for Latitude model
    "metric": 'rmse',
    "task": 'regression',
    "log_file_name": 'flaml_latitude_tuning.log'
}
automl_lat.fit(X_train=X_train, y_train=y_train_lat, **automl_lat_settings)

# Initialize and fit AutoML for Longitude prediction
automl_lon = AutoML()
automl_lon_settings = {
    "time_budget": 1800,  # Set time budget in seconds for Longitude model
    "metric": 'rmse',
    "task": 'regression',
    "log_file_name": 'flaml_longitude_tuning.log'
}
automl_lon.fit(X_train=X_train, y_train=y_train_lon, **automl_lon_settings)

# Define the iterative prediction function using modeltrain logic
def iterative_predict(model_lat, model_lon, X_initial, steps=10):
    """
    Makes iterative predictions for both Latitude and Longitude over multiple steps.
    
    Parameters:
        model_lat, model_lon: Trained models for Latitude and Longitude predictions.
        X_initial: The initial input feature set for prediction.
        steps: Number of iterative steps to predict forward.
    
    Returns:
        A list of latitude and longitude predictions over each iterative step.
    """
    lat_predictions = []
    lon_predictions = []
    X_current = X_initial.copy()  # Start with the initial input

    for step in range(steps):
        # Predict latitude and longitude for the current step
        lat_pred = model_lat.predict(X_current)
        lon_pred = model_lon.predict(X_current)

        # Append predictions
        lat_predictions.append(lat_pred[0])
        lon_predictions.append(lon_pred[0])

        # Update X_current with the latest latitude and longitude predictions
        X_current = update_features_with_prediction(X_current, lat_pred, lon_pred)

    return lat_predictions, lon_predictions

def update_features_with_prediction(X, lat_pred, lon_pred):
    """
    Updates the input features for the next iteration based on the latest predictions.
    
    Parameters:
        X: The current input feature set.
        lat_pred, lon_pred: The latest latitude and longitude predictions.
    
    Returns:
        Updated feature set for the next prediction step.
    """
    # Example update logic: adjust features based on predictions
    X = X.copy()
    X['latitude_pred'] = lat_pred
    X['longitude_pred'] = lon_pred
    return X

# Testing the iterative prediction with both models
initial_features = X_test.iloc[0:1]  # Starting point for iterative prediction
lat_preds, lon_preds = iterative_predict(automl_lat, automl_lon, initial_features, steps=10)

# Evaluate the results
print("Latitude Iterative Predictions:", lat_preds)
print("Longitude Iterative Predictions:", lon_preds)
